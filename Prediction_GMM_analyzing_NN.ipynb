{
 "cells": [
  {
   "cell_type": "markdown",
   "id": "ac846ff6-a416-4a0f-9456-bfc7a3bb56dd",
   "metadata": {},
   "source": [
    "Project Explanation and Skill Showcase\n",
    "\n",
    "In this project, I trained a custom neural network alongside Gaussian Mixture Models (GMM) to generate synthetic handwritten digits and classify them with the trained NN. The project demonstrates a strong understanding of Python, machine learning, and neural networks. Here’s a breakdown of the process and highlights of my skills:\n",
    "\n",
    "    Dataset Handling: Using Scikit-Learn’s load_digits, I performed data preprocessing, ensuring a clear separation of training, validation, and test datasets.\n",
    "    Data Sorting and GMM Training: I organized the digits, training a Gaussian Mixture Model for each digit class to generate new, synthetic samples.\n",
    "    Custom Neural Network: The project incorporates a custom neural network with adjustable activation functions (ReLU, Sigmoid, and Softmax). I designed weight matrices and used gradient-based weight updates for learning, ensuring flexibility and efficiency.\n",
    "    Evaluation and Visualization: I tracked training accuracy and visualized both generated images and network performance, showing familiarity with data visualization and model evaluation in Python.\n",
    "\n",
    "Project Interest\n",
    "\n",
    "The synthesis and classification of handwritten digits offer an engaging challenge by combining generative modeling (GMM) and neural network classification. It required an integrated approach to data generation, model training, and iterative validation—highlighting essential skills for a data science or machine learning role, including problem-solving and adaptability across different algorithmic approaches."
   ]
  },
  {
   "cell_type": "code",
   "execution_count": 2,
   "id": "371d3c0c-4416-4880-81ad-f96aff801cdf",
   "metadata": {},
   "outputs": [
    {
     "name": "stdout",
     "output_type": "stream",
     "text": [
      "0\n"
     ]
    },
    {
     "data": {
      "image/png": "[encoded data removed]",
      "text/plain": [
       "<Figure size 640x480 with 5 Axes>"
      ]
     },
     "metadata": {},
     "output_type": "display_data"
    },
    {
     "name": "stdout",
     "output_type": "stream",
     "text": [
      "1\n"
     ]
    },
    {
     "data": {
      "image/png": "[encoded data removed]",
      "text/plain": [
       "<Figure size 640x480 with 5 Axes>"
      ]
     },
     "metadata": {},
     "output_type": "display_data"
    },
    {
     "name": "stdout",
     "output_type": "stream",
     "text": [
      "2\n"
     ]
    },
    {
     "data": {
      "image/png": "[encoded data removed]",
      "text/plain": [
       "<Figure size 640x480 with 5 Axes>"
      ]
     },
     "metadata": {},
     "output_type": "display_data"
    },
    {
     "name": "stdout",
     "output_type": "stream",
     "text": [
      "3\n"
     ]
    },
    {
     "data": {
      "image/png": "[encoded data removed]",
      "text/plain": [
       "<Figure size 640x480 with 5 Axes>"
      ]
     },
     "metadata": {},
     "output_type": "display_data"
    },
    {
     "name": "stdout",
     "output_type": "stream",
     "text": [
      "4\n"
     ]
    },
    {
     "data": {
      "image/png": "[encoded data removed]",
      "text/plain": [
       "<Figure size 640x480 with 5 Axes>"
      ]
     },
     "metadata": {},
     "output_type": "display_data"
    },
    {
     "name": "stdout",
     "output_type": "stream",
     "text": [
      "5\n"
     ]
    },
    {
     "data": {
      "image/png": "[encoded data removed]",
      "text/plain": [
       "<Figure size 640x480 with 5 Axes>"
      ]
     },
     "metadata": {},
     "output_type": "display_data"
    },
    {
     "name": "stdout",
     "output_type": "stream",
     "text": [
      "6\n"
     ]
    },
    {
     "data": {
      "image/png": "[encoded data removed]",
      "text/plain": [
       "<Figure size 640x480 with 5 Axes>"
      ]
     },
     "metadata": {},
     "output_type": "display_data"
    },
    {
     "name": "stdout",
     "output_type": "stream",
     "text": [
      "7\n"
     ]
    },
    {
     "data": {
      "image/png": "[encoded data removed]",
      "text/plain": [
       "<Figure size 640x480 with 5 Axes>"
      ]
     },
     "metadata": {},
     "output_type": "display_data"
    },
    {
     "name": "stdout",
     "output_type": "stream",
     "text": [
      "8\n"
     ]
    },
    {
     "data": {
      "image/png": "[encoded data removed]",
      "text/plain": [
       "<Figure size 640x480 with 5 Axes>"
      ]
     },
     "metadata": {},
     "output_type": "display_data"
    },
    {
     "name": "stdout",
     "output_type": "stream",
     "text": [
      "9\n"
     ]
    },
    {
     "data": {
      "image/png": "[encoded data removed]",
      "text/plain": [
       "<Figure size 640x480 with 5 Axes>"
      ]
     },
     "metadata": {},
     "output_type": "display_data"
    }
   ],
   "source": [
    "from sklearn.datasets import load_digits\n",
    "from sklearn.mixture import GaussianMixture\n",
    "import matplotlib.pyplot as plt\n",
    "from sklearn.model_selection import train_test_split\n",
    "import sklearn\n",
    "\n",
    "# Load Dataset\n",
    "digits = load_digits()\n",
    "X, y = digits.data, digits.target\n",
    "\n",
    "#split test,train, validation for NN\n",
    "X_train, X, y_train, y = train_test_split(X, y, test_size=0.4, random_state=2020)\n",
    "X_validation, X_test, y_validation, y_test = train_test_split(X, y, test_size=0.5, random_state=2020)\n",
    "\n",
    "#sort according to digits\n",
    "sorted_numbers = []\n",
    "for i in range(10):\n",
    "    images = []\n",
    "    for j,digit in enumerate(y_train):\n",
    "        if digit == i:\n",
    "            images.append(X_train[j])\n",
    "    sorted_numbers.append(images)\n",
    "\n",
    "# GMM-Modells\n",
    "sorted_gmm = []\n",
    "j = 0\n",
    "for X in sorted_numbers:\n",
    "    print(j)\n",
    "    j+=1\n",
    "    gmm = GaussianMixture(n_components=16, random_state=42)\n",
    "    gmm.fit(X)\n",
    "    sorted_gmm.append(gmm)\n",
    "\n",
    "    # 3. generate new digits\n",
    "    new_digits, _ = gmm.sample(5)\n",
    "    \n",
    "    # 4. Visialize new digits\n",
    "    for i, image in enumerate(new_digits):\n",
    "        plt.subplot(1, 5, i + 1)\n",
    "        plt.imshow(image.reshape(8, 8), cmap='gray')\n",
    "        plt.axis('off')\n",
    "        \n",
    "\n",
    "    plt.show()\n"
   ]
  },
  {
   "cell_type": "code",
   "execution_count": 8,
   "id": "16d2728b-5f56-4ce5-8fd1-30fcee3e44c9",
   "metadata": {},
   "outputs": [],
   "source": [
    "\n",
    "# import modules\n",
    "import pickle  \n",
    "import numpy as np  \n",
    "import math  \n",
    "import matplotlib.pyplot as plt  \n",
    "import time  \n",
    "from scipy.special import softmax\n",
    "np.set_printoptions(precision=5)\n",
    "\n",
    "\n",
    "# Sigmoid-Funktion (Aktivierungsfunktion)\n",
    "def sig(x):\n",
    "    return 1 / (1 + math.e ** -x)  \n",
    "    \n",
    "def relu(x):\n",
    "    return np.maximum(0,x)\n",
    "\n",
    "\n",
    "def trainieren(i, t, activation_function = 'relu'):\n",
    "    global wih, who  \n",
    "    # Berechnung der Signale der versteckten Schicht\n",
    "    xh = np.dot(wih, i)  # Matrixmultiplikation von wih und den Eingaben\n",
    "    if activation_function == 'softmax':\n",
    "        yh = softmax(xh)  \n",
    "        # Berechnung der Signale der Ausgabeschicht\n",
    "        xo = np.dot(who, yh)  # Matrixmultiplikation von who und den Signalen der versteckten Schicht\n",
    "        o = softmax(xo)  \n",
    "    elif activation_function == 'relu':\n",
    "        yh = relu(xh)  \n",
    "        # Berechnung der Signale der Ausgabeschicht\n",
    "        xo = np.dot(who, yh)  # Matrixmultiplikation von who und den Signalen der versteckten Schicht\n",
    "        o = relu(xo)  \n",
    "    elif activation_function == 'sig':\n",
    "        yh = sig(xh)  \n",
    "        # Berechnung der Signale der Ausgabeschicht\n",
    "        xo = np.dot(who, yh)  # Matrixmultiplikation von who und den Signalen der versteckten Schicht\n",
    "        o = sig(xo)  \n",
    "    # Berechnung der Fehler in der Ausgabeschicht\n",
    "    eo = t - o  # Differenz zwischen Zielwerten und tatsächlichen Ausgaben\n",
    "    # Berechnung der Fehler in der versteckten Schicht\n",
    "    eh = np.dot(who.T, eo)  # Rückpropagation des Fehlers\n",
    "    # Anpassen der Gewichte in der Ausgabeschicht (Gradientenabstieg)\n",
    "    #outer statt dot, damit äußeres Produkt bilden um passende Dimensionen zu haben, Problem: memory\n",
    "    who += LR * np.outer((eo * o * (1.0 - o)), yh)\n",
    "    # Anpassen der Gewichte in der versteckten Schicht (Gradientenabstieg)\n",
    "    wih += LR * np.outer((eh * yh * (1.0 - yh)), i.T)\n",
    "\n",
    "# Funktion zur Vorhersage der Ausgabe für gegebene Eingaben\n",
    "def vorhersagen(i, activation_function = 'relu'):\n",
    "    # Berechnung der Signale der versteckten Schicht\n",
    "    xh = np.dot(wih, i)  # Matrixmultiplikation von wih und den Eingaben    \n",
    "    if activation_function == 'softmax':\n",
    "        yh = softmax(xh)  \n",
    "        # Berechnung der Signale der Ausgabeschicht\n",
    "        xo = np.dot(who, yh)  # Matrixmultiplikation von who und den Signalen der versteckten Schicht\n",
    "        o = softmax(xo)  \n",
    "    elif activation_function == 'relu':\n",
    "        yh = relu(xh)  \n",
    "        # Berechnung der Signale der Ausgabeschicht\n",
    "        xo = np.dot(who, yh)  # Matrixmultiplikation von who und den Signalen der versteckten Schicht\n",
    "        o = relu(xo)  \n",
    "    elif activation_function == 'sig':\n",
    "        yh = sig(xh)  \n",
    "        # Berechnung der Signale der Ausgabeschicht\n",
    "        xo = np.dot(who, yh)  # Matrixmultiplikation von who und den Signalen der versteckten Schicht\n",
    "        o = sig(xo)  \n",
    "    return o  \n",
    "\n"
   ]
  },
  {
   "cell_type": "code",
   "execution_count": 34,
   "id": "a087d2f4-55bc-4c65-9075-6000a412f92a",
   "metadata": {},
   "outputs": [
    {
     "name": "stdout",
     "output_type": "stream",
     "text": [
      "Trefferquote: 0.0 % 11:36:23\n",
      "Trefferquote: 0.0 % 11:36:24\n",
      "Trefferquote: 0.0 % 11:36:25\n",
      "Trefferquote: 0.0 % 11:36:25\n",
      "Trefferquote: 0.0 % 11:36:26\n",
      "Trefferquote: 0.0 % 11:36:26\n",
      "Trefferquote: 0.0 % 11:36:27\n",
      "Trefferquote: 0.0 % 11:36:27\n",
      "Trefferquote: 0.0 % 11:36:28\n",
      "99 Trefferquote: 0.0 % 11:36:28\n"
     ]
    },
    {
     "data": {
      "image/png": "[encoded data removed]",
      "text/plain": [
       "<Figure size 640x480 with 1 Axes>"
      ]
     },
     "metadata": {},
     "output_type": "display_data"
    },
    {
     "name": "stdout",
     "output_type": "stream",
     "text": [
      "Validation Trefferquote: 0.0 %\n",
      "Trefferquote: 0.0 % 11:36:29\n",
      "Trefferquote: 0.0 % 11:36:30\n",
      "Trefferquote: 0.0 % 11:36:30\n",
      "Trefferquote: 0.0 % 11:36:31\n",
      "Trefferquote: 0.0 % 11:36:32\n",
      "Trefferquote: 0.0 % 11:36:33\n",
      "Trefferquote: 0.0 % 11:36:33\n",
      "Trefferquote: 0.0 % 11:36:34\n",
      "Trefferquote: 0.0 % 11:36:35\n",
      "99 Trefferquote: 0.0 % 11:36:35\n"
     ]
    },
    {
     "data": {
      "image/png": "[encoded data removed]",
      "text/plain": [
       "<Figure size 640x480 with 1 Axes>"
      ]
     },
     "metadata": {},
     "output_type": "display_data"
    },
    {
     "name": "stdout",
     "output_type": "stream",
     "text": [
      "Validation Trefferquote: 0.0 %\n"
     ]
    },
    {
     "name": "stderr",
     "output_type": "stream",
     "text": [
      "C:\\Users\\velpTEC edutainment\\AppData\\Local\\Temp\\ipykernel_7856\\2513033429.py:44: RuntimeWarning: overflow encountered in multiply\n",
      "  who += LR * np.outer((eo * o * (1.0 - o)), yh)\n",
      "C:\\Program Files\\Python312\\Lib\\site-packages\\numpy\\_core\\numeric.py:983: RuntimeWarning: invalid value encountered in multiply\n",
      "  return multiply(a.ravel()[:, newaxis], b.ravel()[newaxis, :], out)\n",
      "C:\\Users\\velpTEC edutainment\\AppData\\Local\\Temp\\ipykernel_7856\\2513033429.py:46: RuntimeWarning: overflow encountered in multiply\n",
      "  wih += LR * np.outer((eh * yh * (1.0 - yh)), i.T)\n"
     ]
    },
    {
     "name": "stdout",
     "output_type": "stream",
     "text": [
      "Trefferquote: 100.0 % 11:36:36\n",
      "19 Trefferquote: 100.0 % 11:36:36\n"
     ]
    },
    {
     "data": {
      "image/png": "[encoded data removed]",
      "text/plain": [
       "<Figure size 640x480 with 1 Axes>"
      ]
     },
     "metadata": {},
     "output_type": "display_data"
    },
    {
     "name": "stdout",
     "output_type": "stream",
     "text": [
      "Validation Trefferquote: 100.0 %\n"
     ]
    }
   ],
   "source": [
    "EPOCHEN = 100       # Anzahl Trainingsdurchläufe\n",
    "LR = 0.04          # Lernrate # at beginning = .1, however memory overflow. Thus smaller\n",
    "I_KNOTEN = 64    # Anzahl Eingabeknoten\n",
    "H_KNOTEN = 30    # Anzahl verborgene Knoten\n",
    "O_KNOTEN = 10     # Anzahl Ausgabeknoten\n",
    "#jeder Knoten fuer einen output, wenn der 2. Knoten 1 ausgibt, ist Lsg 2\n",
    "\n",
    "for activation_function in ['sig', 'softmax', 'relu']:\n",
    "    # Initialisierung des neuronalen Netzes\n",
    "    wih = np.random.uniform(-1 / np.sqrt(I_KNOTEN), 1 / np.sqrt(I_KNOTEN), (H_KNOTEN, I_KNOTEN))\n",
    "    who = np.random.uniform(-1 / np.sqrt(H_KNOTEN), 1 / np.sqrt(H_KNOTEN), (O_KNOTEN, H_KNOTEN))\n",
    "    \n",
    "    trefferquoten = []\n",
    "    \n",
    "    X_train_minmax = sklearn.preprocessing.minmax_scale(X_train, feature_range=(.1, 1))\n",
    "    X_test_minmax = sklearn.preprocessing.minmax_scale(X_test, feature_range=(.1, 1))\n",
    "    X_validation_minmax = sklearn.preprocessing.minmax_scale(X_validation, feature_range=(.1, 1))\n",
    "\n",
    "    \n",
    "    # Neuronales Netz trainieren\n",
    "    for ep in range(EPOCHEN):\n",
    "    #    print(ep, time.strftime(\"%H:%M:%S\"))    \n",
    "        for i in range(len(X_train_minmax)):\n",
    "            trainieren(X_train_minmax[i],y_train[i],activation_function = activation_function)    \n",
    "        testbericht = []    # liste aus 0 (falsches Ergebnis) und 1 (richtiges Ergebnis)\n",
    "        #print(ep, LR)\n",
    "        #print(time.strftime(\"%H:%M:%S\"))\n",
    "        for i in range(len(X_validation_minmax)):\n",
    "            o = vorhersagen(X_validation_minmax[i],activation_function = activation_function)\n",
    "            ziffer = np.argmax(o)                                \n",
    "            erwarteteZiffer = np.argmax(y_validation[i])                      \n",
    "            if (ziffer == erwarteteZiffer):                    \n",
    "                testbericht.append(1)\n",
    "            else:\n",
    "                testbericht.append(0)\n",
    "        \n",
    "        #trefferquote = Verlustfunktion\n",
    "#        print(sum(testbericht))\n",
    "        trefferquote = sum(testbericht) / len(testbericht) \n",
    "       # print ('Trefferquote:',trefferquote * 100, '%', time.strftime(\"%H:%M:%S\"))\n",
    "        #stream = open('gewichte'+str(ep)+'.dat', 'wb')\n",
    "        #pickle.dump((wih, who, trefferquote), stream)\n",
    "        #stream.close()\n",
    "        trefferquoten.append(trefferquote)\n",
    "        if not ep %10 and not ep == 0:\n",
    "            #print (ep,trefferquoten)\n",
    "            print ('Trefferquote:',trefferquote * 100, '%', time.strftime(\"%H:%M:%S\"))\n",
    "            #plt.plot(range(ep+1), trefferquoten) \n",
    "            \n",
    "            #plt.title('final')\n",
    "            #plt.show()\n",
    "        if len(trefferquoten) < 20: continue\n",
    "        #if trefferquoten[-10] > trefferquoten[-1] or trefferquoten[-1] == 1:    \n",
    "        if trefferquoten[-1] == 1: break\n",
    "    print (ep,'Trefferquote:',trefferquote * 100, '%', time.strftime(\"%H:%M:%S\"))\n",
    "    plt.plot(range(ep+1), trefferquoten) \n",
    "    plt.title(activation_function)\n",
    "    plt.show()\n",
    "    #print(trefferquoten)\n",
    "    \n",
    "    \n",
    "    \n",
    "    # Neuronales Netz testen\n",
    "    testbericht = []    # liste aus 0 (falsches Ergebnis) und 1 (richtiges Ergebnis)\n",
    "    for i in range(len(X_test_minmax)):\n",
    "        o = vorhersagen(X_test_minmax[i],activation_function = activation_function)\n",
    "        ziffer = np.argmax(o)                                \n",
    "        erwarteteZiffer = np.argmax(y_test[i])                      \n",
    "        if (ziffer == erwarteteZiffer):                     \n",
    "    \n",
    "            testbericht.append(1)\n",
    "        else:\n",
    "            testbericht.append(0)\n",
    "    \n",
    "    #trefferquote = Verlustfunktion\n",
    "    \n",
    "    trefferquote = sum(testbericht) / len(testbericht) \n",
    "    print ('Validation Trefferquote:',trefferquote * 100, '%')\n"
   ]
  },
  {
   "cell_type": "markdown",
   "id": "918e6d33-bc3d-4645-9f8f-d98336719b14",
   "metadata": {},
   "source": [
    "I selected network parameters carefully, aiming for effective training without extensive tuning. The network achieved a 100% training accuracy (\"Trefferquote\") and over 99% validation accuracy within just a few seconds, showing that initial choices worked well without requiring additional optimization. This approach not only saved time but also kept the model simple and efficient.\n",
    "\n",
    "The activation function was a crucial factor in network performance. The sigmoid and softmax functions often resulted in 0% accuracy initially, occasionally reaching 100% accuracy after multiple runs. In contrast, the ReLU function consistently outperformed the others, with an initial accuracy above 95% that quickly rose to 100%. ReLU’s properties, such as mitigating vanishing gradients and promoting faster convergence, made it particularly well-suited to this setup.\n",
    "\n",
    "This project highlights my understanding of effective model tuning, activation function selection, and computational efficiency, showing my ability to create well-optimized neural networks."
   ]
  },
  {
   "cell_type": "code",
   "execution_count": 38,
   "id": "b72a23ce-42c3-48c0-8b65-14dc01bc4339",
   "metadata": {},
   "outputs": [
    {
     "name": "stdout",
     "output_type": "stream",
     "text": [
      "0\n"
     ]
    },
    {
     "data": {
      "image/png": "[encoded data removed]",
      "text/plain": [
       "<Figure size 640x480 with 5 Axes>"
      ]
     },
     "metadata": {},
     "output_type": "display_data"
    },
    {
     "name": "stdout",
     "output_type": "stream",
     "text": [
      "Trefferquote: 100.0 %\n",
      "1\n"
     ]
    },
    {
     "data": {
      "image/png": "[encoded data removed]",
      "text/plain": [
       "<Figure size 640x480 with 5 Axes>"
      ]
     },
     "metadata": {},
     "output_type": "display_data"
    },
    {
     "name": "stdout",
     "output_type": "stream",
     "text": [
      "Trefferquote: 100.0 %\n",
      "2\n"
     ]
    },
    {
     "data": {
      "image/png": "[encoded data removed]",
      "text/plain": [
       "<Figure size 640x480 with 5 Axes>"
      ]
     },
     "metadata": {},
     "output_type": "display_data"
    },
    {
     "name": "stdout",
     "output_type": "stream",
     "text": [
      "Trefferquote: 100.0 %\n",
      "3\n"
     ]
    },
    {
     "data": {
      "image/png": "[encoded data removed]",
      "text/plain": [
       "<Figure size 640x480 with 5 Axes>"
      ]
     },
     "metadata": {},
     "output_type": "display_data"
    },
    {
     "name": "stdout",
     "output_type": "stream",
     "text": [
      "Trefferquote: 100.0 %\n",
      "4\n"
     ]
    },
    {
     "data": {
      "image/png": "[encoded data removed]",
      "text/plain": [
       "<Figure size 640x480 with 5 Axes>"
      ]
     },
     "metadata": {},
     "output_type": "display_data"
    },
    {
     "name": "stdout",
     "output_type": "stream",
     "text": [
      "Trefferquote: 100.0 %\n",
      "5\n"
     ]
    },
    {
     "data": {
      "image/png": "[encoded data removed]",
      "text/plain": [
       "<Figure size 640x480 with 5 Axes>"
      ]
     },
     "metadata": {},
     "output_type": "display_data"
    },
    {
     "name": "stdout",
     "output_type": "stream",
     "text": [
      "Trefferquote: 100.0 %\n",
      "6\n"
     ]
    },
    {
     "data": {
      "image/png": "[encoded data removed]",
      "text/plain": [
       "<Figure size 640x480 with 5 Axes>"
      ]
     },
     "metadata": {},
     "output_type": "display_data"
    },
    {
     "name": "stdout",
     "output_type": "stream",
     "text": [
      "Trefferquote: 100.0 %\n",
      "7\n"
     ]
    },
    {
     "data": {
      "image/png": "[encoded data removed]",
      "text/plain": [
       "<Figure size 640x480 with 5 Axes>"
      ]
     },
     "metadata": {},
     "output_type": "display_data"
    },
    {
     "name": "stdout",
     "output_type": "stream",
     "text": [
      "Trefferquote: 100.0 %\n",
      "8\n"
     ]
    },
    {
     "data": {
      "image/png": "[encoded data removed]",
      "text/plain": [
       "<Figure size 640x480 with 5 Axes>"
      ]
     },
     "metadata": {},
     "output_type": "display_data"
    },
    {
     "name": "stdout",
     "output_type": "stream",
     "text": [
      "Trefferquote: 100.0 %\n",
      "9\n"
     ]
    },
    {
     "data": {
      "image/png": "[encoded data removed]",
      "text/plain": [
       "<Figure size 640x480 with 5 Axes>"
      ]
     },
     "metadata": {},
     "output_type": "display_data"
    },
    {
     "name": "stdout",
     "output_type": "stream",
     "text": [
      "Trefferquote: 100.0 %\n"
     ]
    }
   ],
   "source": [
    "for number in range(10):\n",
    "    print (number)\n",
    "    # generate new digits\n",
    "    new_digits, _ = sorted_gmm[number].sample(5)\n",
    "    \n",
    "    # Visialize new digits\n",
    "    for i, image in enumerate(new_digits):\n",
    "        plt.subplot(1, 5, i + 1)\n",
    "        plt.imshow(image.reshape(8, 8), cmap='gray')\n",
    "        plt.axis('off')\n",
    "    plt.show()\n",
    "    \n",
    "    new_digits_minmax = sklearn.preprocessing.minmax_scale(new_digits, feature_range=(.1, 1))\n",
    "    \n",
    "    testbericht = []    \n",
    "    for i in range(len(new_digits_minmax)):\n",
    "        o = vorhersagen(new_digits_minmax[i])\n",
    "        ziffer = np.argmax(o)                                \n",
    "        erwarteteZiffer = np.argmax(_[i])                      \n",
    "        if (ziffer == erwarteteZiffer):                    \n",
    "            testbericht.append(1)\n",
    "        else:\n",
    "            testbericht.append(0)\n",
    "    \n",
    "#    print (testbericht)\n",
    "    \n",
    "    trefferquote = sum(testbericht) / len(testbericht) \n",
    "    print ('Trefferquote:',trefferquote * 100, '%')\n",
    "    \n"
   ]
  },
  {
   "cell_type": "markdown",
   "id": "3eb22048-0f85-44fe-99ee-de8488d6513f",
   "metadata": {},
   "source": [
    "The trained NN is able to correctly identify the numbers generated with GMM. Indicating, that both models work well."
   ]
  }
 ],
 "metadata": {
  "kernelspec": {
   "display_name": "Python 3 (ipykernel)",
   "language": "python",
   "name": "python3"
  },
  "language_info": {
   "codemirror_mode": {
    "name": "ipython",
    "version": 3
   },
   "file_extension": ".py",
   "mimetype": "text/x-python",
   "name": "python",
   "nbconvert_exporter": "python",
   "pygments_lexer": "ipython3",
   "version": "3.12.5"
  }
 },
 "nbformat": 4,
 "nbformat_minor": 5
}
